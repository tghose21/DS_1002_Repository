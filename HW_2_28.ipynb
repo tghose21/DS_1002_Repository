{
  "nbformat": 4,
  "nbformat_minor": 0,
  "metadata": {
    "colab": {
      "provenance": [],
      "authorship_tag": "ABX9TyPC+FDbk+IkKHBHu7uQBV68",
      "include_colab_link": true
    },
    "kernelspec": {
      "name": "python3",
      "display_name": "Python 3"
    },
    "language_info": {
      "name": "python"
    }
  },
  "cells": [
    {
      "cell_type": "markdown",
      "metadata": {
        "id": "view-in-github",
        "colab_type": "text"
      },
      "source": [
        "<a href=\"https://colab.research.google.com/github/tghose21/DS_1002_Repository/blob/main/HW_2_28.ipynb\" target=\"_parent\"><img src=\"https://colab.research.google.com/assets/colab-badge.svg\" alt=\"Open In Colab\"/></a>"
      ]
    },
    {
      "cell_type": "code",
      "execution_count": 15,
      "metadata": {
        "id": "tvvZZ67bCXkT",
        "colab": {
          "base_uri": "https://localhost:8080/"
        },
        "outputId": "5704f67c-6c25-43b0-c27c-a760eef39f9a"
      },
      "outputs": [
        {
          "output_type": "stream",
          "name": "stdout",
          "text": [
            "Requirement already satisfied: english_words in /usr/local/lib/python3.10/dist-packages (2.0.1)\n",
            "<class 'set'>\n",
            "234450 is how long wordlist is. \n"
          ]
        }
      ],
      "source": [
        "# Collaborator: Keerthana Eswarapragada\n",
        "import matplotlib.pyplot as plt\n",
        "!pip install english_words\n",
        "from english_words import get_english_words_set\n",
        "words = get_english_words_set(['web2'], lower=True)\n",
        "\n",
        "# 1) The type of \"words\" is a set\n",
        "print(type(words))\n",
        "# I notice that all of the elements are strings\n",
        "wordlist = list(words)\n",
        "print(str(len(wordlist)) + \" is how long wordlist is. \")"
      ]
    },
    {
      "cell_type": "code",
      "source": [
        "# 2) I notice that all the words are strings\n",
        "print(wordlist[:10])"
      ],
      "metadata": {
        "colab": {
          "base_uri": "https://localhost:8080/"
        },
        "id": "Z8e0xYUJbFUx",
        "outputId": "83e013ae-7532-43ae-97bf-6b9422c34f51"
      },
      "execution_count": 16,
      "outputs": [
        {
          "output_type": "stream",
          "name": "stdout",
          "text": [
            "['vesuviate', 'unguarded', 'forktail', 'ethylsulphuric', 'inodorously', 'smoothly', 'affixer', 'smog', 'tourism', 'bahai']\n"
          ]
        }
      ]
    },
    {
      "cell_type": "code",
      "source": [
        "# 3) Create alpha_list and print out first ten elements in alphabetical order\n",
        "alpha_list = sorted(wordlist)\n",
        "print(alpha_list[:10])"
      ],
      "metadata": {
        "colab": {
          "base_uri": "https://localhost:8080/"
        },
        "id": "L2KXIFijbJ2-",
        "outputId": "4641a660-bc86-4852-8b16-11db8bcd47b3"
      },
      "execution_count": 24,
      "outputs": [
        {
          "output_type": "stream",
          "name": "stdout",
          "text": [
            "['a', 'aa', 'aal', 'aalii', 'aam', 'aani', 'aardvark', 'aardwolf', 'aaron', 'aaronic']\n"
          ]
        }
      ]
    },
    {
      "cell_type": "code",
      "source": [
        "# 4) Checking to see how many of these words start with \"a\"\n",
        "aCount = 0;\n",
        "# For every word if the first letter is a add one to aCount\n",
        "for each in alpha_list:\n",
        "  if each[0] == \"a\":\n",
        "    aCount += 1\n",
        "print(str(aCount) + \" is the number of words that start with a. \")"
      ],
      "metadata": {
        "colab": {
          "base_uri": "https://localhost:8080/"
        },
        "id": "N9lS1GCJbNPS",
        "outputId": "fc1f0f37-6d79-4f3c-ded8-ab35609ca6a8"
      },
      "execution_count": 25,
      "outputs": [
        {
          "output_type": "stream",
          "name": "stdout",
          "text": [
            "16982 is the number of words that start with a. \n"
          ]
        }
      ]
    },
    {
      "cell_type": "code",
      "source": [
        "# 5) Check how many words have a q in them\n",
        "qCount = 0;\n",
        "# Go through each word and then each letter\n",
        "for eachWord in alpha_list:\n",
        "  for eachLetter in eachWord:\n",
        "    # If there is an q detected, add one to qCount and stop checking letters\n",
        "    if eachLetter == \"q\":\n",
        "      qCount += 1\n",
        "      break\n",
        "\n",
        "print(str(qCount) + \" words contain the letter q. \")\n",
        "\n",
        "# Use a nested for-each loop to check every letter in every word to see if they do NOT have an e\n",
        "eCount = 0\n",
        "for eachWord in alpha_list:\n",
        "    if \"e\" not in eachWord:\n",
        "      eCount += 1\n",
        "\n",
        "# Compute the fraction that do NOT have an e\n",
        "print(str((eCount) / len(alpha_list)) + \" is the fraction of words that do not contain an e. \")\n",
        "print()"
      ],
      "metadata": {
        "colab": {
          "base_uri": "https://localhost:8080/"
        },
        "id": "P18oVArsbTgZ",
        "outputId": "42241b74-7aa3-40f8-a74f-1ca72cea67ba"
      },
      "execution_count": 26,
      "outputs": [
        {
          "output_type": "stream",
          "name": "stdout",
          "text": [
            "3624 words contain the letter q. \n",
            "0.32828321603753463 is the fraction of words that do not contain an e. \n",
            "\n"
          ]
        }
      ]
    },
    {
      "cell_type": "code",
      "source": [
        "import numpy as np\n",
        "# 6) Convert wordlist and alpha_list to arrays\n",
        "wordArray = np.array(wordlist)\n",
        "alphaArray = np.array(alpha_list)\n",
        "\n",
        "# This line of code creates a list of all the lowercase letters in alphabetical order\n",
        "alphabet = [chr(i) for i in range(ord('a'),ord('z')+1)]\n",
        "print(alphabet)"
      ],
      "metadata": {
        "colab": {
          "base_uri": "https://localhost:8080/"
        },
        "id": "y2o15zeJbY7J",
        "outputId": "a63af76d-c7a8-4d0a-ce4a-ab9439c4c272"
      },
      "execution_count": 28,
      "outputs": [
        {
          "output_type": "stream",
          "name": "stdout",
          "text": [
            "['a', 'b', 'c', 'd', 'e', 'f', 'g', 'h', 'i', 'j', 'k', 'l', 'm', 'n', 'o', 'p', 'q', 'r', 's', 't', 'u', 'v', 'w', 'x', 'y', 'z']\n"
          ]
        }
      ]
    },
    {
      "cell_type": "code",
      "source": [
        "# 7) Make a list of zeros with the same length\n",
        "numList = np.zeros(len(alphabet))\n",
        "\n",
        "firstLetter = 0\n",
        "# Iterate through each word in wordArray\n",
        "for eachWord in wordArray:\n",
        "  # Extract the first letter of each word\n",
        "  firstLetter = eachWord[0]\n",
        "  # Go through every letter in alphabet\n",
        "  for eachLetter in alphabet:\n",
        "    # Extract the index of each letter\n",
        "    numIndex = alphabet.index(eachLetter)\n",
        "    # Check if the first letter of the word is equal to the letter in alphabet\n",
        "    if firstLetter == eachLetter:\n",
        "      # Add one to numList at the index that corresponds to the letter you are checking for\n",
        "      numList[numIndex] += 1\n",
        "\n",
        "# Create x and y values\n",
        "x = alphabet\n",
        "y = numList\n",
        "\n",
        "plt.bar(x, y, color='m')\n",
        "plt.plot()\n",
        "\n",
        "plt.xlabel(\"Letters\")\n",
        "plt.ylabel(\"Number of Words\")\n",
        "plt.title(\"Counting the First Letter of Each Word\")\n",
        "plt.show()\n",
        "print()"
      ],
      "metadata": {
        "colab": {
          "base_uri": "https://localhost:8080/",
          "height": 490
        },
        "id": "_QFkyF2eberB",
        "outputId": "af915589-0028-43f6-a423-0f211d6dd624"
      },
      "execution_count": 31,
      "outputs": [
        {
          "output_type": "display_data",
          "data": {
            "text/plain": [
              "<Figure size 640x480 with 1 Axes>"
            ],
            "image/png": "[encoded data removed]"
          },
          "metadata": {}
        },
        {
          "output_type": "stream",
          "name": "stdout",
          "text": [
            "\n"
          ]
        }
      ]
    },
    {
      "cell_type": "code",
      "source": [
        "# 8) Make an empty list\n",
        "lengthList = []\n",
        "# Append all length values to the list\n",
        "for eachWord in wordlist:\n",
        "  lengthList.append(len(eachWord))\n",
        "# Create a sorted list of lists\n",
        "bothLists = list(sorted(zip(lengthList, wordlist)))\n",
        "print(\"The following are the 6 longest words in wordlist: \")\n",
        "# Print out the last 6 words\n",
        "for i in range(6):\n",
        "  print(bothLists[-i-1][1])"
      ],
      "metadata": {
        "colab": {
          "base_uri": "https://localhost:8080/"
        },
        "id": "iDnVze2KbiBe",
        "outputId": "623fc8a2-6a3b-4676-a64c-66f0bc83e249"
      },
      "execution_count": 34,
      "outputs": [
        {
          "output_type": "stream",
          "name": "stdout",
          "text": [
            "The following are the 6 longest words in wordlist: \n",
            "antidisestablishmentarianism\n",
            "thyroparathyroidectomize\n",
            "tetraiodophenolphthalein\n",
            "scientificophilosophical\n",
            "pathologicopsychological\n",
            "formaldehydesulphoxylate\n"
          ]
        }
      ]
    },
    {
      "cell_type": "code",
      "source": [
        "# 9) Make a function that turns a list into a word lengths into a histogram\n",
        "def wordHistogram(wordlist):\n",
        "  # wordLength contains all the lengths of the words in worlist\n",
        "  wordLength = []\n",
        "  for eachWord in wordlist:\n",
        "    wordLength.append(len(eachWord))\n",
        "  # Define x vs y, the bars of the histogram are the bins and the range encompasses all words\n",
        "  plt.hist(wordLength, bins=range(min(wordLength), max(wordLength) + 1), color='blue', edgecolor = 'm')\n",
        "\n",
        "  plt.xlabel(\"Word Length\")\n",
        "  plt.ylabel(\"Number of Words\")\n",
        "  plt.title(\"Word Length vs Number of Words\")\n",
        "  plt.show()\n",
        "\n",
        "wordHistogram(wordlist)\n"
      ],
      "metadata": {
        "colab": {
          "base_uri": "https://localhost:8080/",
          "height": 472
        },
        "id": "x8RIaDdanLmJ",
        "outputId": "00ae93a1-9245-4ea8-92d9-f88ac307cdc3"
      },
      "execution_count": 33,
      "outputs": [
        {
          "output_type": "display_data",
          "data": {
            "text/plain": [
              "<Figure size 640x480 with 1 Axes>"
            ],
            "image/png": "[encoded data removed]"
          },
          "metadata": {}
        }
      ]
    },
    {
      "cell_type": "code",
      "source": [
        " # 10) This loop goes through the list of words once and takes 0 seconds to run\n",
        "\n",
        "# Search for a and v in each word of wordlist\n",
        "count1 = 0\n",
        "for eachWord in wordlist:\n",
        "  if \"a\" in eachWord and \"v\" in eachWord:\n",
        "    count1 += 1\n",
        "\n",
        "print(str(count1) + \" is the number of words that have both v and a\")\n",
        "\n",
        "# Search for w and l in each word of wordlist\n",
        "count2 = 0\n",
        "for eachWord in wordlist:\n",
        "  if \"w\" in eachWord and \"l\" in eachWord:\n",
        "    count2 += 1\n",
        "\n",
        "print(str(count2) + \" is the number of words that have both w and l\")"
      ],
      "metadata": {
        "colab": {
          "base_uri": "https://localhost:8080/"
        },
        "id": "zab6_cN6B-p2",
        "outputId": "29aeaec1-8b22-4890-8a29-881afedcee55"
      },
      "execution_count": 4,
      "outputs": [
        {
          "output_type": "stream",
          "name": "stdout",
          "text": [
            "11347 is the number of words that have both v and a\n",
            "4822 is the number of words that have both w and l\n"
          ]
        }
      ]
    },
    {
      "cell_type": "code",
      "source": [
        "# Bonus Question\n",
        "from itertools import combinations\n",
        "from collections import Counter\n",
        "\n",
        "# Remove all words with hyphens from wordlis\n",
        "def without_hyphen(wordlist):\n",
        "    no_hyphen_words = [word for word in wordlist if '-' not in word]\n",
        "    return no_hyphen_words\n",
        "\n",
        "# Set list equal to words without hyphens\n",
        "wholeWords = without_hyphen(wordlist)\n",
        "\n",
        "# Search for combos of 2 letters in each word\n",
        "def combosWordlist(wholeWords):\n",
        "  combos = []\n",
        "  for singleWord in wholeWords:\n",
        "    # Add each combo to combos\n",
        "    combos.extend(combinations(singleWord, 2))\n",
        "    # Count frequncy of each combination\n",
        "  frequency = Counter(combos)\n",
        "  # Sort by most common\n",
        "  most_common = frequency.most_common(len(combos))\n",
        "  return most_common\n",
        "\n",
        "print(str(combosWordlist(wholeWords)[0][0]) + \" is the most common pair of letters and it occurs \" + str(combosWordlist(wholeWords)[0][1]) + \" number of times. \")\n",
        "print(str(combosWordlist(wholeWords)[-1][0]) + \" is the least common pair of letters and it occurs \" + str(combosWordlist(wholeWords)[-1][1]) + \" number of times. \")"
      ],
      "metadata": {
        "colab": {
          "base_uri": "https://localhost:8080/"
        },
        "id": "02Lj2JDlTeMd",
        "outputId": "3a8856e3-d4a9-4cdb-8a3e-5dfc3bf7c34a"
      },
      "execution_count": 37,
      "outputs": [
        {
          "output_type": "stream",
          "name": "stdout",
          "text": [
            "('r', 'e') is the most common pair of letters and it occurs 97221 number of times\n",
            "('x', 'j') is the least common pair of letters and it occurs 4 number of times\n"
          ]
        }
      ]
    }
  ]
}