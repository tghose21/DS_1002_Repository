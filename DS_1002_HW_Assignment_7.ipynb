{
  "nbformat": 4,
  "nbformat_minor": 0,
  "metadata": {
    "colab": {
      "provenance": [],
      "include_colab_link": true
    },
    "kernelspec": {
      "name": "python3",
      "display_name": "Python 3"
    },
    "language_info": {
      "name": "python"
    }
  },
  "cells": [
    {
      "cell_type": "markdown",
      "metadata": {
        "id": "view-in-github",
        "colab_type": "text"
      },
      "source": [
        "<a href=\"https://colab.research.google.com/github/tghose21/DS_1002_Repository/blob/main/DS_1002_HW_Assignment_7.ipynb\" target=\"_parent\"><img src=\"https://colab.research.google.com/assets/colab-badge.svg\" alt=\"Open In Colab\"/></a>"
      ]
    },
    {
      "cell_type": "markdown",
      "source": [
        "# More pandas exercises\n",
        "\n",
        "Create a Colab notebook. Complete the tasks as specified in the directions. Run each cell to return the desired output. Save your notebook back to your GitHub repository and submit the GitHub URL for your notebook for review."
      ],
      "metadata": {
        "id": "phbaQTT5gy8A"
      }
    },
    {
      "cell_type": "markdown",
      "source": [
        "1.  Load the following dataset into Colab and perform the requested operations in code.\n",
        "\n",
        " Source: https://ds1002-resources.s3.amazonaws.com/data/ride_sharing.csv"
      ],
      "metadata": {
        "id": "WlPHuSLARJBJ"
      }
    },
    {
      "cell_type": "code",
      "source": [
        "# Load pandas and the data\n",
        "import pandas as pd\n",
        "df = pd.read_csv('/content/ride_sharing (1).csv')\n",
        "print(df['duration'])"
      ],
      "metadata": {
        "id": "kdFLCHtOg53p",
        "colab": {
          "base_uri": "https://localhost:8080/"
        },
        "outputId": "a4dedf97-b242-4668-cf86-311f0ed32e90"
      },
      "execution_count": 3,
      "outputs": [
        {
          "output_type": "stream",
          "name": "stdout",
          "text": [
            "0        12 minutes\n",
            "1        24 minutes\n",
            "2         8 minutes\n",
            "3         4 minutes\n",
            "4        11 minutes\n",
            "            ...    \n",
            "25755    11 minutes\n",
            "25756    10 minutes\n",
            "25757    14 minutes\n",
            "25758    14 minutes\n",
            "25759    29 minutes\n",
            "Name: duration, Length: 25760, dtype: object\n"
          ]
        }
      ]
    },
    {
      "cell_type": "code",
      "source": [
        "# show how many rows and columns are in this dataset\n",
        "rows = df.shape[0]\n",
        "print(\"There are \" + str(rows) + \" rows in the dataset.\")\n",
        "\n",
        "columns = df.shape[1]\n",
        "print(\"There are \" + str(columns) + \" columns in the dataset.\")"
      ],
      "metadata": {
        "id": "Lfh8suAyhKQW",
        "colab": {
          "base_uri": "https://localhost:8080/"
        },
        "outputId": "955f7617-f76b-4743-ca0d-70389f5ba9e1"
      },
      "execution_count": 4,
      "outputs": [
        {
          "output_type": "stream",
          "name": "stdout",
          "text": [
            "There are 25760 rows in the dataset.\n",
            "There are 10 columns in the dataset.\n"
          ]
        }
      ]
    },
    {
      "cell_type": "code",
      "source": [
        "# The first column, \"duration\" is seen as a string.\n",
        "# Using two snippets of code, clean this column up so that\n",
        "# is now an integer (int64)\n",
        "df['duration'] = df['duration'].astype(str).str.strip(' minutes')\n",
        "df['duration'] = df['duration'].astype(int)"
      ],
      "metadata": {
        "id": "KK5-y9nzhMVq"
      },
      "execution_count": 5,
      "outputs": []
    },
    {
      "cell_type": "code",
      "source": [
        "# Now display the datatypes in the updated dataframe\n",
        "print(df.dtypes)"
      ],
      "metadata": {
        "id": "QyGJUshvhz1J",
        "colab": {
          "base_uri": "https://localhost:8080/"
        },
        "outputId": "d4c35081-8950-4de6-883a-2ee9fb4e621a"
      },
      "execution_count": 6,
      "outputs": [
        {
          "output_type": "stream",
          "name": "stdout",
          "text": [
            "duration            int64\n",
            "station_A_id        int64\n",
            "station_A_name     object\n",
            "station_B_id        int64\n",
            "station_B_name     object\n",
            "bike_id             int64\n",
            "user_type           int64\n",
            "user_birth_year     int64\n",
            "user_gender        object\n",
            "tire_size           int64\n",
            "dtype: object\n"
          ]
        }
      ]
    },
    {
      "cell_type": "code",
      "source": [
        "# Show the min and max values of ride durations (the shortest and longest rides)\n",
        "# Hint: If 'df' is the name of your dataframe, simply specify the column name\n",
        "# and then append the .min() or .max() methods.\n",
        "min = df['duration'].min()\n",
        "print(str(min) + \" is the min value! \")\n",
        "\n",
        "max = df['duration'].max()\n",
        "print(str(max) + \" is the max value! \")"
      ],
      "metadata": {
        "id": "UCA1OswWh5b5",
        "colab": {
          "base_uri": "https://localhost:8080/"
        },
        "outputId": "d95d1cd7-8a40-4c83-8c1b-0d79f9ab6b09"
      },
      "execution_count": 7,
      "outputs": [
        {
          "output_type": "stream",
          "name": "stdout",
          "text": [
            "1 is the min value! \n",
            "1372 is the max value! \n"
          ]
        }
      ]
    },
    {
      "cell_type": "code",
      "source": [
        "# Create a new dataframe object and populate it with rides that are 60 minutes or less.\n",
        "# Hint: Use the .query() method for the dataframe that we used in class.\n",
        "dfSixty = df.query('duration <61')"
      ],
      "metadata": {
        "id": "K7mStv5kibbA"
      },
      "execution_count": 8,
      "outputs": []
    },
    {
      "cell_type": "code",
      "source": [
        "# Now show both the min and max values of the duration column for your new dataset.\n",
        "min = dfSixty['duration'].min()\n",
        "print(str(min) + \" is the min value! \")\n",
        "\n",
        "max = dfSixty['duration'].max()\n",
        "print(str(max) + \" is the max value! \")"
      ],
      "metadata": {
        "id": "v63UdQjNi-w5",
        "colab": {
          "base_uri": "https://localhost:8080/"
        },
        "outputId": "35c5d958-b036-4f1b-b3be-03b0cde7c681"
      },
      "execution_count": 9,
      "outputs": [
        {
          "output_type": "stream",
          "name": "stdout",
          "text": [
            "1 is the min value! \n",
            "60 is the max value! \n"
          ]
        }
      ]
    },
    {
      "cell_type": "code",
      "source": [
        "# Using the new dataframe, update it so that is ONLY has records where\n",
        "# the tire_size is 26.\n",
        "dfSixtyTires = dfSixty.query('tire_size == 26')"
      ],
      "metadata": {
        "id": "xTzb_j9rjGk2"
      },
      "execution_count": 10,
      "outputs": []
    },
    {
      "cell_type": "code",
      "source": [
        "# Finally, produce a count of all records with FEMALE riders\n",
        "# using the 26-inch wheeled rental bikes for their rentals of\n",
        "# one hour or less.\n",
        "dfSixtyTiresW = dfSixtyTires.query('user_gender == \"Female\"')\n",
        "count = len(dfSixtyTiresW)\n",
        "print((str(count)) + \" is the number of how many female riders using the 26-inch wheeled rental bikes for their rentals of one hour or less\")"
      ],
      "metadata": {
        "id": "0cwbfj66jrG9",
        "colab": {
          "base_uri": "https://localhost:8080/"
        },
        "outputId": "34e1ddc7-0886-4dac-980d-1db050abc539"
      },
      "execution_count": 11,
      "outputs": [
        {
          "output_type": "stream",
          "name": "stdout",
          "text": [
            "2962 is the number of how many female riders using the 26-inch wheeled rental bikes for their rentals of one hour or less\n"
          ]
        }
      ]
    },
    {
      "cell_type": "markdown",
      "source": [
        "2. Find the file `more-messy-data.csv` on GitHub and upload it into Google Colab.\n",
        "\n",
        "Create a new Pandas DataFrame from that data and perform the following steps."
      ],
      "metadata": {
        "id": "YIlxzTRQSrl3"
      }
    },
    {
      "cell_type": "code",
      "source": [
        "# Write a snippet of code that will display the number of duplicate rows exist in the DF.\n",
        "df = pd.read_csv('/content/more-messy-data.csv')\n",
        "duplicates = df.duplicated().sum()\n",
        "print(\"There are \" + str(duplicates) + \" duplicates in the data frame\")"
      ],
      "metadata": {
        "id": "6O1caoy6S82Q",
        "colab": {
          "base_uri": "https://localhost:8080/"
        },
        "outputId": "2855f4df-8b84-424e-8c3e-7265f925cc66"
      },
      "execution_count": 13,
      "outputs": [
        {
          "output_type": "stream",
          "name": "stdout",
          "text": [
            "There are 287 duplicates in the data frame\n"
          ]
        }
      ]
    },
    {
      "cell_type": "code",
      "source": [
        "# Next, remove all duplicate rows using Python.\n",
        "df = df.drop_duplicates()"
      ],
      "metadata": {
        "id": "-pDZ2xA-S8vd"
      },
      "execution_count": 14,
      "outputs": []
    },
    {
      "cell_type": "code",
      "source": [
        "# For the FOUR columns involving sepal and petal length and width, update all NaN\n",
        "# values with the column mean.\n",
        "means = df[['sepal_length', 'sepal_width', 'petal_length', 'petal_width']].mean()\n",
        "for value in ['sepal_length', 'sepal_width', 'petal_length', 'petal_width']:\n",
        "    # Check if there are NaN values in the column\n",
        "    if df[value].isnull().any():\n",
        "        # If a value is NaN fill it with the mean of the column\n",
        "        df[value].fillna(means[value], inplace=True)"
      ],
      "metadata": {
        "colab": {
          "base_uri": "https://localhost:8080/"
        },
        "id": "PP9dxNjqhJBG",
        "outputId": "9f970468-32dc-4271-8d43-92e9803928ee"
      },
      "execution_count": 32,
      "outputs": [
        {
          "output_type": "stream",
          "name": "stderr",
          "text": [
            "<ipython-input-32-dc4eb36aa305>:3: FutureWarning: The default value of numeric_only in DataFrame.mean is deprecated. In a future version, it will default to False. In addition, specifying 'numeric_only=None' is deprecated. Select only valid columns or specify the value of numeric_only to silence this warning.\n",
            "  means = df[['sepal_length', 'sepal_width', 'petal_length', 'petal_width']].mean()\n"
          ]
        }
      ]
    },
    {
      "cell_type": "code",
      "source": [
        "# Find any values in the dataframe that are still missing, and delete them.\n",
        "df.dropna(inplace=True)"
      ],
      "metadata": {
        "id": "en_ReYsAS8f-"
      },
      "execution_count": 18,
      "outputs": []
    },
    {
      "cell_type": "code",
      "source": [
        "# How many different species are there?\n",
        "# Count the number of unique species\n",
        "df['species'] = df['species'].str.lower()\n",
        "species = df['species'].unique()\n",
        "\n",
        "typos = {'virginia': 'virginica'}\n",
        "typos = {'setoso': 'setosa'}\n",
        "typos = {'setosan': 'setosa'}\n",
        "typos = {'setoso': 'setosa'}\n",
        "\n",
        "df['species'].replace(typos, inplace=True)\n",
        "\n",
        "num_species = df['species'].nunique()\n",
        "print(str(num_species) + \" is the number of unique species. \")"
      ],
      "metadata": {
        "id": "uqV9IHwDS75a",
        "colab": {
          "base_uri": "https://localhost:8080/"
        },
        "outputId": "6b205ab4-b019-4f15-fa86-c2a2ab0e42df"
      },
      "execution_count": 28,
      "outputs": [
        {
          "output_type": "stream",
          "name": "stdout",
          "text": [
            "3 is the number of unique species. \n"
          ]
        }
      ]
    },
    {
      "cell_type": "code",
      "source": [
        "# Clean up the 'species' variable so that there are exactly three different values.\n",
        "print(str(num_species) + \" is the number of unique species. \")"
      ],
      "metadata": {
        "id": "G2j8HDgYT52P",
        "colab": {
          "base_uri": "https://localhost:8080/"
        },
        "outputId": "0acf531f-6128-4441-9668-2c859914e471"
      },
      "execution_count": 30,
      "outputs": [
        {
          "output_type": "stream",
          "name": "stdout",
          "text": [
            "3 is the number of unique species. \n"
          ]
        }
      ]
    },
    {
      "cell_type": "markdown",
      "source": [
        "3. Bonus:  Regular expressions\n",
        "\n",
        "Ordinary (non-vanity) Virginia license plates have the form `ABC1234`, meaning they have three upper case letters followed by four digits.  Write a regular expression that matches any string of this form (and doesn't match anything else).  Test your expression with code to make sure it works.\n",
        "\n",
        "To figure out out how to do this, start with the sample code below.  The `re` package has various functions related to regular expressions, including for example `match()`, which takes two arguments, first the regular expression and second the test string, and tests to see whether the *beginning* of the `test` string matches the pattern `exp`.\n",
        "\n",
        "Note that `re.match(exp,test)` does not return a boolean variable, as you might expect (in other words, a match doesn't return `True` and a non-match `False`).  The type of object you get is called `re.Match`, which is a data type special to the `re` package.  (The reason for this is that the object contains more information than just whether there is a match or not.) However, you can turn it into a boolean using `bool()` if you want.\n",
        "\n",
        "Include the following in the notebook you submit:\n",
        "\n",
        " 1. A regular expression in a text chunk\n",
        " 2. One or more code chunks in which you test several strings to verify that your regex is correct.\n",
        " 3. Make sure you display the results of testing various strings.\n",
        "\n",
        " See this [documentation page](https://docs.python.org/3/howto/regex.html#regex-howto) for further help."
      ],
      "metadata": {
        "id": "CsMBqFDmX7Ax"
      }
    }
  ]
}