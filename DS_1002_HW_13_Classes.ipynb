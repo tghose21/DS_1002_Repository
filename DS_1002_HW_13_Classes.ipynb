{
  "nbformat": 4,
  "nbformat_minor": 0,
  "metadata": {
    "colab": {
      "provenance": [],
      "include_colab_link": true
    },
    "kernelspec": {
      "name": "python3",
      "display_name": "Python 3"
    },
    "language_info": {
      "name": "python"
    }
  },
  "cells": [
    {
      "cell_type": "markdown",
      "metadata": {
        "id": "view-in-github",
        "colab_type": "text"
      },
      "source": [
        "<a href=\"https://colab.research.google.com/github/tghose21/DS_1002_Repository/blob/main/DS_1002_HW_13_Classes.ipynb\" target=\"_parent\"><img src=\"https://colab.research.google.com/assets/colab-badge.svg\" alt=\"Open In Colab\"/></a>"
      ]
    },
    {
      "cell_type": "markdown",
      "source": [
        "## Assignment:  Classes\n",
        "### Due Sunday 28 April at 10pm"
      ],
      "metadata": {
        "id": "5Vy93BSp9Tum"
      }
    },
    {
      "cell_type": "markdown",
      "source": [
        "1.  Define a class called `Person` that has attributes `lastName`, `firstName`, `mother`, and `father`.  Both `mother` and `father` should have default value `unknown`.\n",
        "\n",
        "  Include a `__str__()` function that returns a string of the form '`firstName` `lastName`'.\n",
        "\n",
        "  Include a `__repr__()` function that returns a string that can be evaluated to recreate the `Person` object.\n",
        "\n"
      ],
      "metadata": {
        "id": "vcj5XQAI9Wsb"
      }
    },
    {
      "cell_type": "code",
      "source": [
        "class Person:\n",
        "  def __init__(self,lastName, firstName, mother = 'unknown', father = 'unknown'):\n",
        "    self.lastName = lastName\n",
        "    self.firstName = firstName\n",
        "    self.mother = mother\n",
        "    self.father = father\n",
        "  def __str__(self):\n",
        "    return f\"Person({self.lastName} {self.firstName})\"\n",
        "  def __repr__(self):\n",
        "    return f\"Person({self.lastName} {self.firstName} {self.mother} {self.father})\"\n"
      ],
      "metadata": {
        "id": "mjHDwHv3EpVe"
      },
      "execution_count": 101,
      "outputs": []
    },
    {
      "cell_type": "markdown",
      "source": [
        "Create a person (i.e., a `Person` object) called `p` with unknown parents.  (You will need to give your person a first and last name.) Check the type of `p`.  Include all inputs and outputs."
      ],
      "metadata": {
        "id": "-ppMsEIVHINl"
      }
    },
    {
      "cell_type": "code",
      "source": [
        "p0 = Person(\"Ghose\", \"Tara\")\n",
        "print(type(p0))"
      ],
      "metadata": {
        "id": "5bwid_6gHIBH",
        "colab": {
          "base_uri": "https://localhost:8080/"
        },
        "outputId": "895910fd-b62a-44d2-de73-8b64cfab49b5"
      },
      "execution_count": 109,
      "outputs": [
        {
          "output_type": "stream",
          "name": "stdout",
          "text": [
            "<class '__main__.Person'>\n"
          ]
        }
      ]
    },
    {
      "cell_type": "markdown",
      "source": [
        "Verify that your `__str__` and `__repr__` functions are doing what they are supposed to do.  Include all inputs and outputs."
      ],
      "metadata": {
        "id": "Z6zlUC3xRtal"
      }
    },
    {
      "cell_type": "code",
      "source": [
        "print(p0.__str__())\n",
        "print(p0.__repr__())"
      ],
      "metadata": {
        "id": "jZO0dBQYRs-K",
        "colab": {
          "base_uri": "https://localhost:8080/"
        },
        "outputId": "5f35152f-c2b9-4495-efb4-343d44715a49"
      },
      "execution_count": 112,
      "outputs": [
        {
          "output_type": "stream",
          "name": "stdout",
          "text": [
            "Person(Ghose Tara)\n",
            "Person(Ghose Tara unknown unknown)\n"
          ]
        }
      ]
    },
    {
      "cell_type": "markdown",
      "source": [
        "Suppose the mother of `p` has been found and is named Taylor Swift.  Create a new person named Taylor Swift, and make her the mother of `p`:\n",
        "\n",
        "```\n",
        "> p.mother\n",
        "'Taylor Swift'\n",
        "```"
      ],
      "metadata": {
        "id": "1mOAThQiHzoQ"
      }
    },
    {
      "cell_type": "code",
      "source": [
        "p0M = Person(\"Swift\", \"Taylor\")\n",
        "p0.mother = p0M\n",
        "print(p0.__repr__())"
      ],
      "metadata": {
        "id": "NYbDOorpHymz",
        "colab": {
          "base_uri": "https://localhost:8080/"
        },
        "outputId": "9257c0db-13aa-41b3-c6bf-eb6ac6290270"
      },
      "execution_count": 113,
      "outputs": [
        {
          "output_type": "stream",
          "name": "stdout",
          "text": [
            "Person(Ghose Tara Person(Swift Taylor) unknown)\n"
          ]
        }
      ]
    },
    {
      "cell_type": "markdown",
      "source": [
        "2.  Add some methods to your class.  Start by copying the `class` definition you already wrote.  Then, inside the `class` definition:\n",
        "\n",
        "  (a) Write a method called `unknownParent()` which returns `True` if any parent is 'unknown' and `False` otherwise.\n",
        "\n",
        "  (b) Write a method called `maternalGrandmother()` which returns the mother's mother.  If the mother is unknown, it should return 'unknown'.\n",
        "\n"
      ],
      "metadata": {
        "id": "1g1pcrmFHzGh"
      }
    },
    {
      "cell_type": "code",
      "source": [
        "class Person:\n",
        "  def __init__(self,lastName, firstName, mother = 'unknown', father = 'unknown'):\n",
        "    self.lastName = lastName\n",
        "    self.firstName = firstName\n",
        "    self.mother = mother\n",
        "    self.father = father\n",
        "  def __str__(self):\n",
        "    return f\"({self.lastName} {self.firstName})\"\n",
        "  def __repr__(self):\n",
        "    return f\"Person({self.lastName} {self.firstName} {self.mother} {self.father})\"\n",
        "  def unknownParent(self):\n",
        "    if self.mother == 'unknown' or self.father == 'unknown':\n",
        "      return True\n",
        "    else:\n",
        "      return False\n",
        "  def maternalGrandmother(self):\n",
        "    if isinstance(self.mother, Person):\n",
        "      return self.mother.mother\n",
        "    else:\n",
        "      return 'unknown'"
      ],
      "metadata": {
        "id": "7mIxJGwwKTpv"
      },
      "execution_count": 114,
      "outputs": []
    },
    {
      "cell_type": "markdown",
      "source": [
        "Create enough `Person` objects to test whether your methods are working properly.  Show all your inputs and outputs.  It is up to you to demonstrate that you have thoroughly tested the code.  You may use additional code and/or text chunks if it helps."
      ],
      "metadata": {
        "id": "l9-4gxd8FxAQ"
      }
    },
    {
      "cell_type": "code",
      "source": [
        "# Create different people with combinations of mom/dad\n",
        "p1 = Person(\"Ghose\", \"Betty\", \"Rachel\", \"Ralph\")\n",
        "p2 = Person(\"Johnson\", \"Olivia\", mother=p1)\n",
        "p3 = Person(\"Biden\", \"Joe\")\n",
        "\n",
        "# p1 should return False since both mother and father are not known\n",
        "# p2 only has mother defined, so function should return True (father is unknown)\n",
        "# p3 should return True since both mother and father are unknown\n",
        "print(p1.unknownParent())\n",
        "print(p2.unknownParent())\n",
        "print(p3.unknownParent())\n",
        "\n",
        "print()\n",
        "\n",
        "# p1 should return unknown since mother's mother is not known\n",
        "# p2 should return Rachel since Betty is Olivia's mother and Betty's mother is Rachel\n",
        "# p3 should return unknown since mother is unknown thus maternal grandmother is unknown too\n",
        "print(p1.maternalGrandmother())\n",
        "print(p2.maternalGrandmother())\n",
        "print(p3.maternalGrandmother())"
      ],
      "metadata": {
        "id": "gX1qpcKzFwoZ",
        "colab": {
          "base_uri": "https://localhost:8080/"
        },
        "outputId": "e3badcf2-d706-4ed5-cc42-f40d6e26e008"
      },
      "execution_count": 115,
      "outputs": [
        {
          "output_type": "stream",
          "name": "stdout",
          "text": [
            "False\n",
            "True\n",
            "True\n",
            "\n",
            "unknown\n",
            "Rachel\n",
            "unknown\n"
          ]
        }
      ]
    },
    {
      "cell_type": "markdown",
      "source": [],
      "metadata": {
        "id": "nt1-t547Wq7x"
      }
    }
  ]
}