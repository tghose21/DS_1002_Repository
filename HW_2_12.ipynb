{
  "nbformat": 4,
  "nbformat_minor": 0,
  "metadata": {
    "colab": {
      "provenance": [],
      "authorship_tag": "ABX9TyN40pjM2QjgpfnOjKHn2MbP",
      "include_colab_link": true
    },
    "kernelspec": {
      "name": "python3",
      "display_name": "Python 3"
    },
    "language_info": {
      "name": "python"
    }
  },
  "cells": [
    {
      "cell_type": "markdown",
      "metadata": {
        "id": "view-in-github",
        "colab_type": "text"
      },
      "source": [
        "<a href=\"https://colab.research.google.com/github/tghose21/DS_1002_Repository/blob/main/HW_2_12.ipynb\" target=\"_parent\"><img src=\"https://colab.research.google.com/assets/colab-badge.svg\" alt=\"Open In Colab\"/></a>"
      ]
    },
    {
      "cell_type": "code",
      "execution_count": 1,
      "metadata": {
        "colab": {
          "base_uri": "https://localhost:8080/"
        },
        "id": "6Iln8NyGDeIw",
        "outputId": "9c0e64e8-8fd1-4f76-b47d-38e45664fb31"
      },
      "outputs": [
        {
          "output_type": "stream",
          "name": "stdout",
          "text": [
            "Please guess a number between 0 and 100\n",
            "10 \n",
            "Too low! \n",
            "Try again! 40\n",
            "You guessed the correct number! It took you this number of attempts: 2!\n"
          ]
        }
      ],
      "source": [
        "# Make random computer variable between 0 and 100\n",
        "import numpy as np\n",
        "compVar = np.random.randint(0,100, size=1)\n",
        "\n",
        "# Test out the variable\n",
        "# print(compVar)\n",
        "\n",
        "# Ask user to input a number\n",
        "print(\"Please guess a number between 0 and 100\")\n",
        "userVar = input()\n",
        "\n",
        "# Set guessVar to 0\n",
        "guessVar = 0\n",
        "\n",
        "# Use a while loop to go until user guesses correct number\n",
        "while 1 == 1:\n",
        "  # Check if the user guess is out of bounds\n",
        "  if int(userVar) < 0 or int(userVar) > 100:\n",
        "    print(\"Your guess must be between 0 and 100! \")\n",
        "    userVar = input(\"Try again! \")\n",
        "  else:\n",
        "    # Increments guessVar by 1 to keep track of valid guesses\n",
        "    guessVar += 1\n",
        "    # Check if the user input is equal to the computer variable\n",
        "    if int(userVar) == compVar:\n",
        "        print(\"You guessed the correct number! It took you this number of attempts: \" + str(guessVar) + \"!\")\n",
        "        break\n",
        "    # Check if user input is greater than the computer variable\n",
        "    elif int(userVar) > compVar:\n",
        "        print(\"Too high! \")\n",
        "        userVar = input(\"Try again! \")\n",
        "    # All other guesses will be less than\n",
        "    else:\n",
        "        print(\"Too low! \")\n",
        "        userVar = input(\"Try again! \")\n",
        "\n"
      ]
    }
  ]
}