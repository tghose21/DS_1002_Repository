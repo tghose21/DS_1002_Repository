{
  "cells": [
    {
      "cell_type": "markdown",
      "metadata": {
        "id": "view-in-github",
        "colab_type": "text"
      },
      "source": [
        "<a href=\"https://colab.research.google.com/github/tghose21/DS_1002_Repository/blob/main/DS_1002_10_Bulls_Cows_Final_ipynb.ipynb\" target=\"_parent\"><img src=\"https://colab.research.google.com/assets/colab-badge.svg\" alt=\"Open In Colab\"/></a>"
      ]
    },
    {
      "cell_type": "markdown",
      "metadata": {
        "id": "lSwr8T3SNrkj"
      },
      "source": [
        "## Bulls and Cows:\n",
        "### Another guessing game.\n",
        "### Assignment due Wednesday 10 April at 10 am\n",
        "\n",
        "General instructions:\n",
        "\n",
        "1. You may work in teams of up to three people.  As usual, if you do this, make sure all names are clearly displayed at the top of your submission, and all team members should submit the same GitHub URL.\n",
        "\n",
        "1. Use only basic Python code.  Do not use `numpy` arrays or functions.\n",
        "\n",
        "2. Practice utilizing the coding concepts we have studied.  \n",
        "\n",
        "3. Write docstrings for all your functions.\n",
        "\n"
      ]
    },
    {
      "cell_type": "markdown",
      "metadata": {
        "id": "qrWRyeI2NwHA"
      },
      "source": [
        "### Goal:  program this game\n",
        "In this assignment you will program a version of an old game called Bulls and Cows.  It is somewhat similar to Wordle, but with numbers instead of words (and various other differences . . . read carefully!).\n",
        "\n",
        "The game is played like this:  \n",
        "1. The computer will choose a secret code that the player is trying to guess.\n",
        "2. The secret code will be 4 digits long.  It will use only the digits 1-6, and it will have no repeated digits.  For example the secret code might be 1326 or 6241 but it cannot be 2652 or 4913 or 2601.\n",
        "3. The computer will prompt the user for a guess, and the user will guess.  The guess must follow the same rules (4 digits long, only use digits 1-6, no repeats).  The program should not allow an invalid guess.\n",
        "4. After each guess, the computer will give feedback to the user as follows:  \n",
        "(i) Each digit of the guess that is in the secret code and in the correct position is called a Bull (B).  \n",
        "(ii) Each digit of the guess that exists somewhere in the secret code, but *not* in the same position as in the guess, is called a Cow (C).  \n",
        "(iii) A digit of the guess that doesn't occur anywhere in the secret code is called a miss (X).  \n",
        "The computer will inform the user how many Bulls, how many Cows, and how many misses the user's guess had.  \n",
        "The feedback will always start with B's, then list C's, then list X's.  \n",
        "For example if the secret code is 1326  \n",
        "and the guess is 4316  \n",
        "then the computer should respond with \"BBCX\"  \n",
        "because there are two Bulls (the 3 and the 6 are Bulls, because they occur in the same position in the guess as in the secret code),  \n",
        "one Cow (the 1, which is a correct digit but in the wrong position),  \n",
        "and one Miss (the 4, which does not occur anywhere in the secret code).  \n",
        "> **Important:** the feedback string should always list the Bulls first, then the Cows, then the Misses.  It should **not** tell the user which digits are which!  The only information in the feedback string is how many of each there are.  In the example above, for instance, the feedback is **not** \"XBCB\" but rather \"BBCX\".  This is different from Wordle, if you are familiar with that game.\n",
        "5. The user should then be prompted for another guess.  This guess-with-feedback process should be repeated until the user gets the correct code, at which point the computer should indicate that they have won the game.  However, the user should only be allowed 6 guesses; if they don't guess correctly in 6 attempts, then following the feedback from their final guess they should get a message that they have lost the game, and the secret code should be revealed.\n",
        "\n",
        "\n",
        "\n",
        "\n",
        "\n",
        "\n",
        "\n"
      ]
    },
    {
      "cell_type": "markdown",
      "source": [
        "### Steps\n",
        "We will build this game using several functions.  \n",
        "\n",
        "1. **Count the Bulls:**  \n",
        "Write a function that takes two lists of the same length, and returns the number of Bulls.  That is, it should return the number of indices where the lists contain the same element.  *(Note:  you don't have to check that the entries are between 1 and 6, or that there are no repeats, etc.  A different function will do that.)*\n",
        "\n",
        "> A sample run might look like\n",
        "```\n",
        "first = [11, 3, 17, 5, 1]\n",
        "second = [20, 2, 17, 3, 1]\n",
        "count_bulls(first,second)\n",
        "```\n",
        "```\n",
        " 2\n",
        "```\n"
      ],
      "metadata": {
        "id": "XSH1JULaurD1"
      }
    },
    {
      "cell_type": "markdown",
      "source": [
        "Define your function in the code chunk below.  The function definition command and the return command are pre-populated for you.  You just have to fill in the part which does the actual counting.  I recommend using a list comprehension to do this.\n"
      ],
      "metadata": {
        "id": "pXoOyBk7xmPa"
      }
    },
    {
      "cell_type": "code",
      "source": [
        "# the Bull-counting function\n",
        "first = [11, 3, 17, 5, 1]\n",
        "second = [20, 2, 17, 3, 1]\n",
        "\n",
        "def count_bulls(first, second):\n",
        "    \"\"\"\n",
        "    Iterate through lists and see what if they share any values in the same position\n",
        "\n",
        "    Parameters:\n",
        "      first = first list to iterate through\n",
        "      second = second list to iterate through\n",
        "\n",
        "    Returns:\n",
        "      an integer that stores the number of bulls between the two lists\n",
        "\n",
        "    \"\"\"\n",
        "    num_bulls = 0\n",
        "    for i in range(len(first)):\n",
        "        if first[i] == second[i]:\n",
        "            num_bulls += 1\n",
        "    return num_bulls\n",
        "\n",
        "\n",
        "count_bulls(first, second)"
      ],
      "metadata": {
        "id": "vEsRSe8KxlcF",
        "colab": {
          "base_uri": "https://localhost:8080/"
        },
        "outputId": "ef66ec5a-f70c-4b45-abda-82cfef970ff7"
      },
      "execution_count": 13,
      "outputs": [
        {
          "output_type": "execute_result",
          "data": {
            "text/plain": [
              "2"
            ]
          },
          "metadata": {},
          "execution_count": 13
        }
      ]
    },
    {
      "cell_type": "markdown",
      "source": [
        "Add code and/or text chunks below to demonstrate that you have tested your code and that it works correctly."
      ],
      "metadata": {
        "id": "yACJyJtOzE2U"
      }
    },
    {
      "cell_type": "code",
      "source": [
        "three = [1,2,3]\n",
        "four = [1,2,3]\n",
        "\n",
        "count_bulls(three,four)"
      ],
      "metadata": {
        "id": "UK4B81gBYkbm",
        "colab": {
          "base_uri": "https://localhost:8080/"
        },
        "outputId": "304777d5-e3d6-424f-e6ba-044b75474313"
      },
      "execution_count": 14,
      "outputs": [
        {
          "output_type": "execute_result",
          "data": {
            "text/plain": [
              "3"
            ]
          },
          "metadata": {},
          "execution_count": 14
        }
      ]
    },
    {
      "cell_type": "markdown",
      "source": [
        "2. **Count something else:**  \n",
        "To count the cows it will be helpful first to count how many of the elements occur in both strings, without paying attention their positions.\n",
        "Write a function called `count_animals` that takes two lists of the same length, and returns the number of elements of the second list that are also in the first list.  (In the game setting, each such element is either a Bull or a Cow, but don't worry about which is which for this problem.)\n",
        "You may assume the lists do not contain repeated elements, since this will be the case when the function is called in the game.\n",
        "\n",
        "> This time a sample run might look like\n",
        "```\n",
        "first = [11, 3, 17, 5, 1]\n",
        "second = [20, 2, 17, 3, 1]\n",
        "count_animals(first,second)\n",
        "```\n",
        "```\n",
        " 3\n",
        "```\n",
        "\n",
        "This one isn't started for you.  Remember to include a docstring.  This can also be done using a list comprehension, similar to the previous function.\n",
        "\n"
      ],
      "metadata": {
        "id": "aMsOmejkzNVN"
      }
    },
    {
      "cell_type": "code",
      "source": [
        "# define your function here\n",
        "\n",
        "def count_animals(first, second):\n",
        "  \"\"\"\n",
        "  Iterate through lists and see what if there are any shared values\n",
        "\n",
        "  Parameters:\n",
        "    first = first list to iterate through\n",
        "    second = second list to iterate through\n",
        "\n",
        "  Returns:\n",
        "    an integer that stores the number ofshared values between the two lists\n",
        "  \"\"\"\n",
        "  num_animals = 0\n",
        "  for each in first:\n",
        "    if each in second:\n",
        "      num_animals += 1\n",
        "  return num_animals\n",
        "\n",
        "count_animals(first,second)"
      ],
      "metadata": {
        "id": "yRX219q02e6i",
        "colab": {
          "base_uri": "https://localhost:8080/"
        },
        "outputId": "000b1cc4-1a98-406d-eb6d-3797d053cdc8"
      },
      "execution_count": 15,
      "outputs": [
        {
          "output_type": "execute_result",
          "data": {
            "text/plain": [
              "3"
            ]
          },
          "metadata": {},
          "execution_count": 15
        }
      ]
    },
    {
      "cell_type": "markdown",
      "source": [
        "Again, demonstrate below that you have tested your code and that it works."
      ],
      "metadata": {
        "id": "HXRNwANS2f-4"
      }
    },
    {
      "cell_type": "code",
      "source": [
        "three = [1,2,3,4]\n",
        "four = [1,2,3,5]\n",
        "\n",
        "count_animals(three,four)"
      ],
      "metadata": {
        "colab": {
          "base_uri": "https://localhost:8080/"
        },
        "id": "181sikmhb9em",
        "outputId": "fdaed39d-9d5e-428c-cdde-f710344735a4"
      },
      "execution_count": 17,
      "outputs": [
        {
          "output_type": "execute_result",
          "data": {
            "text/plain": [
              "3"
            ]
          },
          "metadata": {},
          "execution_count": 17
        }
      ]
    },
    {
      "cell_type": "markdown",
      "source": [
        "3. **Count the cows:**  \n",
        "Write a function called `count_cows` that counts the cows.  \n",
        "> This time a sample run might look like\n",
        "```\n",
        "first = [11, 3, 17, 5, 1]\n",
        "second = [20, 2, 17, 3, 1]\n",
        "count_cows(first,second)\n",
        "```\n",
        "```\n",
        " 1\n",
        "```\n",
        "*Use the two previously defined functions to help you!  \n",
        "In fact, remember that the only reason we wrote the `count_animals` function was to help count the cows.*\n",
        "\n",
        "You can do this with only two lines of code, not counting documentation!"
      ],
      "metadata": {
        "id": "x2DAPkxj2GMo"
      }
    },
    {
      "cell_type": "code",
      "source": [
        "# put the Cow counting function here\n",
        "def count_cows(first, second):\n",
        "    \"\"\"\n",
        "    return the numbers of animals - the number of bulls in both lists\n",
        "\n",
        "    Parameters:\n",
        "    first = first list to iterate through\n",
        "    second = second list to iterate through\n",
        "\n",
        "    Returns:\n",
        "    an integer that stores the number of values that are shared between the two lists, but are not in the same position\n",
        "\n",
        "    \"\"\"\n",
        "    return count_animals(first,second) - count_bulls(first,second)\n",
        "\n",
        "count_cows(first,second)"
      ],
      "metadata": {
        "id": "QnxnaOPI3YZO",
        "colab": {
          "base_uri": "https://localhost:8080/"
        },
        "outputId": "8fe09ea8-c810-498c-de8c-045ce759e972"
      },
      "execution_count": 19,
      "outputs": [
        {
          "output_type": "execute_result",
          "data": {
            "text/plain": [
              "1"
            ]
          },
          "metadata": {},
          "execution_count": 19
        }
      ]
    },
    {
      "cell_type": "markdown",
      "metadata": {
        "id": "hWQhYDIVYjXr"
      },
      "source": [
        "4. **Create feedback string**  \n",
        "Write a `build_response_str` function that takes three numbers, say `b,c,l`, and outputs a string of total length `l` that consists of `b` B's, followed by `c` C's, and the rest X's (until the total length is `l`).\n",
        "\n",
        "> Sample run:\n",
        "```\n",
        "build_response_str(4,3,9)\n",
        "```\n",
        "```\n",
        "BBBBCCCXX\n",
        "```"
      ]
    },
    {
      "cell_type": "code",
      "source": [
        "# define your function here\n",
        "def build_response_str(b,c,l):\n",
        "  \"\"\"\n",
        "    print out b,c,l corresponding the value of the given input\n",
        "\n",
        "    Parameters:\n",
        "      b = integer input\n",
        "      c = integer input\n",
        "      l = integer input\n",
        "\n",
        "    Returns:\n",
        "      a string of letters that correspond to the input\n",
        "\n",
        "  \"\"\"\n",
        "  response_str = \"\"\n",
        "  while len(response_str) < l:\n",
        "    if len(response_str) < b:\n",
        "      response_str += \"B\"\n",
        "    elif len(response_str) < b + c:\n",
        "      response_str += \"C\"\n",
        "    else:\n",
        "      response_str += \"X\"\n",
        "  return response_str\n",
        "\n",
        "build_response_str(4,3,9)\n",
        "\n"
      ],
      "metadata": {
        "id": "GSimWqUsMaPE",
        "colab": {
          "base_uri": "https://localhost:8080/",
          "height": 35
        },
        "outputId": "38fecf0a-5ab3-4cb5-cb0e-f73617821ecc"
      },
      "execution_count": 22,
      "outputs": [
        {
          "output_type": "execute_result",
          "data": {
            "text/plain": [
              "'BBBBCCCXX'"
            ],
            "application/vnd.google.colaboratory.intrinsic+json": {
              "type": "string"
            }
          },
          "metadata": {},
          "execution_count": 22
        }
      ]
    },
    {
      "cell_type": "markdown",
      "source": [
        "Test your code here."
      ],
      "metadata": {
        "id": "2D14kxTU7ApH"
      }
    },
    {
      "cell_type": "markdown",
      "metadata": {
        "id": "omzE6sLKwsMC"
      },
      "source": [
        "5.  **Generate feedback for guesses**  \n",
        "Write a function `response(first,second)` that takes two lists of the same length, and outputs a string consisting of some number of B's followed by some number of C's followed by some number of X's, where the numbers correspond to the things we counted above.  That is, if `first` were the secret code in the game and `second` were the user's guess, then we would print one B for each Bull, one C for each Cow, and one X for each Miss. The total output string should have the same length as the input strings.\n",
        "\n",
        "> Sample run:\n",
        "```\n",
        "first = [11, 3, 17, 5, 1]\n",
        "second = [20, 2, 17, 3, 1]\n",
        "response(first,second)\n",
        "```\n",
        "```\n",
        " BBCXX\n",
        "```\n",
        "\n",
        "With all the functions you've already put in place, this should be simple.  Test your code once it's written.\n"
      ]
    },
    {
      "cell_type": "code",
      "source": [
        "def response(first,second):\n",
        "  \"\"\"\n",
        "    assign b,c,x to the bulls, cows and values that are neither in the two lists\n",
        "\n",
        "    Parameters:\n",
        "      first = first list to call previous functions on\n",
        "      second = second list to call previous functions on\n",
        "\n",
        "Returns:\n",
        "      calls the build_response_str on the variables that correspond to the function calls on first and second\n",
        "\n",
        "  \"\"\"\n",
        "\n",
        "  b = count_bulls(first,second)\n",
        "  c = count_cows(first,second)\n",
        "  l = len(first)\n",
        "  return build_response_str(b,c,l)\n",
        "\n",
        "response(first,second)"
      ],
      "metadata": {
        "id": "RD1qq7l783y5",
        "colab": {
          "base_uri": "https://localhost:8080/",
          "height": 35
        },
        "outputId": "b0fdb7e5-d0a0-4117-d0ee-74f8e3d976eb"
      },
      "execution_count": 25,
      "outputs": [
        {
          "output_type": "execute_result",
          "data": {
            "text/plain": [
              "'BBCXX'"
            ],
            "application/vnd.google.colaboratory.intrinsic+json": {
              "type": "string"
            }
          },
          "metadata": {},
          "execution_count": 25
        }
      ]
    },
    {
      "cell_type": "markdown",
      "metadata": {
        "id": "LWshNPjPZJdQ"
      },
      "source": [
        "6.  **Choose the secret code**  \n",
        "The `random` package, and specifically the `sample` sub-package, is useful for generating random samples.  Try running the following lines of code several times.\n",
        "\n"
      ]
    },
    {
      "cell_type": "code",
      "source": [
        "from random import sample\n",
        "\n",
        "sample(range(1,7),4)  # the first argument is the population to be sampled, and the second is the number of samples\n",
        "                      # recall that `range(a,b)` includes `a` but stops at `b-1`"
      ],
      "metadata": {
        "id": "OzEZ5BQZ85jV",
        "colab": {
          "base_uri": "https://localhost:8080/"
        },
        "outputId": "5900a3f1-4938-47f2-ea11-59f619b0856f"
      },
      "execution_count": 24,
      "outputs": [
        {
          "output_type": "execute_result",
          "data": {
            "text/plain": [
              "[3, 1, 2, 5]"
            ]
          },
          "metadata": {},
          "execution_count": 24
        }
      ]
    },
    {
      "cell_type": "markdown",
      "source": [
        "What type of object is returned by the `sample` function?\n"
      ],
      "metadata": {
        "id": "N1BOe2Xd-kr4"
      }
    },
    {
      "cell_type": "code",
      "source": [
        "# A method is returned from the sample function"
      ],
      "metadata": {
        "id": "U5AAu9sG-slX"
      },
      "execution_count": null,
      "outputs": []
    },
    {
      "cell_type": "markdown",
      "source": [],
      "metadata": {
        "id": "yGZw8xFZ-uN4"
      }
    },
    {
      "cell_type": "markdown",
      "source": [
        "7. **Verify the guess**  \n",
        "Finish writing a function called `get_guess` (started below) to prompt the user for a guess and then make sure the input is valid according to the rules of the game.\n",
        "The prompt is already given.  Note that the `list` command converts the input into a list of characters so that it can be passed to the other functions (which are expecting lists).   \n",
        ">**Alert:  you will likely have to think more about data types before this is all over.**"
      ],
      "metadata": {
        "id": "mbK84TdIAVsO"
      }
    },
    {
      "cell_type": "code",
      "source": [
        "def get_guess(userGuess):\n",
        "  \"\"\"\n",
        "    checks all possible violations of the rule, makes sure length is 4, digits are between 1 and 6 and there are no duplicates\n",
        "\n",
        "    Parameters:\n",
        "      userGuess = inputted guess from user which is converted to integer list\n",
        "\n",
        "    Returns:\n",
        "      returns userGuess when it is a valid input\n",
        "\n",
        "  \"\"\"\n",
        "\n",
        "  while True:\n",
        "    userGuess = [int(each) for each in userGuess]\n",
        "    # Add code as needed to verify that the guess is legitimate.\n",
        "    if len(userGuess) != 4:\n",
        "      print(\"Invalid Guess! Your answer must be 4 numbers long! \")\n",
        "      userGuess = input(\"Try again! \")\n",
        "      continue\n",
        "    if not all (1 <= int(digit) <= 6 for digit in userGuess):\n",
        "        print(\"Invalid Guess! Numbers must be between 1 and 6! \")\n",
        "        userGuess = input(\"Try again! \")\n",
        "        continue\n",
        "    if len(userGuess) != len(set(userGuess)):\n",
        "        print(\"Invalid Guess! No duplicates allowed! \")\n",
        "        userGuess = input(\"Try again! \")\n",
        "        continue\n",
        "    break\n",
        "  return userGuess\n"
      ],
      "metadata": {
        "id": "13HGg6VvBXSH"
      },
      "execution_count": 27,
      "outputs": []
    },
    {
      "cell_type": "markdown",
      "source": [
        "As usual, test your code.  What type of objects are we dealing with here?"
      ],
      "metadata": {
        "id": "PSPYpeZYONf0"
      }
    },
    {
      "cell_type": "code",
      "source": [
        "userGuess = input(\"Please input 4 numbers. Each number must be no more than 6 and no less than 1. There can be no repeated numbers \")\n",
        "get_guess(userGuess)\n",
        "# userGuess is a string"
      ],
      "metadata": {
        "id": "ytgf6BfiOPNh",
        "colab": {
          "base_uri": "https://localhost:8080/"
        },
        "outputId": "e49cdfe7-119d-419a-f959-2e8e498fafe9"
      },
      "execution_count": null,
      "outputs": [
        {
          "name": "stdout",
          "output_type": "stream",
          "text": [
            "Please input 4 numbers. Each number must be no more than 6 and no less than 1. There can be no repeated numbers 1238\n",
            "Invalid Guess! Numbers must be between 1 and 6! \n",
            "Try again! 1232\n",
            "Invalid Guess! No duplicates allowed! \n",
            "Try again! 12\n",
            "Invalid Guess! Your answer must be 4 numbers long! \n",
            "Try again! 1234\n"
          ]
        },
        {
          "output_type": "execute_result",
          "data": {
            "text/plain": [
              "[1, 2, 3, 4]"
            ]
          },
          "metadata": {},
          "execution_count": 116
        }
      ]
    },
    {
      "cell_type": "markdown",
      "source": [
        "8. **Put it all together**  \n",
        "Finally, fill in the details of the function `bulls_cows` below so that it will play the game of Bulls and Cows when called.  Note that the function takes no arguments and returns nothing.\n"
      ],
      "metadata": {
        "id": "WdtvUrA4-uzn"
      }
    },
    {
      "cell_type": "code",
      "execution_count": 29,
      "metadata": {
        "id": "_u48oidGzRKX"
      },
      "outputs": [],
      "source": [
        "from random import sample\n",
        "\n",
        "def bulls_cows():\n",
        "    \"\"\"\n",
        "    sets computer code = to the sample function, goes through a loop 6 times and calls the get_guess function on userGuess, checks if guess is equal to code\n",
        "\n",
        "    Parameters:\n",
        "      Does not take in anything\n",
        "\n",
        "    Returns:\n",
        "      does not return anything, function ends either when user guesses the code or if they have guessed 6 valid times\n",
        "\n",
        "    \"\"\"\n",
        "    code = list(sample(range(1,7),4))\n",
        "    for i in range(6):\n",
        "        guess = get_guess(input(\"Input your guess. \"))\n",
        "        if code == guess:\n",
        "            print(\"You guessed it!\")\n",
        "            return\n",
        "        print(response(code,guess))\n",
        "    print(f\"You have run out of guesses. The secret code was {code}.\")\n"
      ]
    },
    {
      "cell_type": "markdown",
      "metadata": {
        "id": "NzjqX_9K3OuV"
      },
      "source": [
        "Play the game a few times below.  Make sure it behaves as you think it should!"
      ]
    },
    {
      "cell_type": "code",
      "execution_count": null,
      "metadata": {
        "id": "b-HELV-z3OuW",
        "colab": {
          "base_uri": "https://localhost:8080/"
        },
        "outputId": "66e676cc-7c02-4dd2-a91a-5b77354effbb"
      },
      "outputs": [
        {
          "output_type": "stream",
          "name": "stdout",
          "text": [
            "Input your guess. 1234\n",
            "BCCX\n",
            "Input your guess. 5213\n",
            "BCXX\n",
            "Input your guess. 1326\n",
            "BCCX\n",
            "Input your guess. 1254\n",
            "BCXX\n",
            "Input your guess. 1242\n",
            "Invalid Guess! No duplicates allowed! \n",
            "Try again! 1542\n",
            "BCXX\n",
            "Input your guess. 4321\n",
            "CCCX\n",
            "You have run out of guesses. The secret code was [1, 4, 6, 3].\n"
          ]
        }
      ],
      "source": [
        "bulls_cows()"
      ]
    },
    {
      "cell_type": "code",
      "source": [
        "bulls_cows()"
      ],
      "metadata": {
        "id": "inzOdtimDfGU",
        "colab": {
          "base_uri": "https://localhost:8080/"
        },
        "outputId": "17a3f7a5-51bc-4033-9268-18d7c4322e68"
      },
      "execution_count": null,
      "outputs": [
        {
          "output_type": "stream",
          "name": "stdout",
          "text": [
            "Input your guess. 1463\n",
            "CCCX\n",
            "Input your guess. 1462\n",
            "CCCX\n",
            "Input your guess. 4651\n",
            "BBXX\n",
            "Input your guess. 4632\n",
            "BBCX\n",
            "Input your guess. 4613\n",
            "BCCX\n",
            "Input your guess. 4351\n",
            "BBCX\n",
            "You have run out of guesses. The secret code was [4, 2, 3, 1].\n"
          ]
        }
      ]
    },
    {
      "cell_type": "code",
      "source": [
        "bulls_cows()"
      ],
      "metadata": {
        "id": "Eqw-5laFDfkG",
        "colab": {
          "base_uri": "https://localhost:8080/"
        },
        "outputId": "f890a28c-2d50-4f29-82fb-bbca65ec95f3"
      },
      "execution_count": null,
      "outputs": [
        {
          "output_type": "stream",
          "name": "stdout",
          "text": [
            "Input your guess. 1234\n",
            "CCXX\n",
            "Input your guess. 2156\n",
            "BCCX\n",
            "Input your guess. 2365\n",
            "CCCC\n",
            "Input your guess. 3526\n",
            "BCCC\n",
            "Input your guess. 5236\n",
            "CCCC\n",
            "Input your guess. 3652\n",
            "You guessed it!\n"
          ]
        }
      ]
    },
    {
      "cell_type": "markdown",
      "source": [
        "9. **Reflect**  \n",
        "Think of at least three ways you could change the rules or setup of the game, and in each case describe (in one sentence, you don't need to write code) what you would have to do to modify your code to play the new version of the game.  Use a text box below for each of your ideas."
      ],
      "metadata": {
        "id": "a58-KCX4ELRO"
      }
    },
    {
      "cell_type": "markdown",
      "source": [
        "(1)"
      ],
      "metadata": {
        "id": "Jof2vIZSEfwo"
      }
    },
    {
      "cell_type": "markdown",
      "source": [
        "I think I fun idea would be to have the user play N number of games and calculate the percentage of wins they have using a variable to count wins and then divide by total games."
      ],
      "metadata": {
        "id": "Yv9kkXFnO1Ea"
      }
    },
    {
      "cell_type": "markdown",
      "source": [
        "(2) Instead of having the computer generate the code, having a user generate the code could make it a two-player game."
      ],
      "metadata": {
        "id": "f2_QlBavEiqW"
      }
    },
    {
      "cell_type": "markdown",
      "source": [
        "(3) Implementing a timer by using the time functions in python would make the game more complicating by having a limit on how long it takes a user to guess."
      ],
      "metadata": {
        "id": "sqfq2EFpEjZt"
      }
    }
  ],
  "metadata": {
    "colab": {
      "provenance": [],
      "include_colab_link": true
    },
    "kernelspec": {
      "display_name": "Python 3",
      "name": "python3"
    },
    "language_info": {
      "name": "python"
    }
  },
  "nbformat": 4,
  "nbformat_minor": 0
}